{
  "nbformat": 4,
  "nbformat_minor": 0,
  "metadata": {
    "colab": {
      "provenance": [],
      "authorship_tag": "ABX9TyM9JT+aY0Gf+9hAcetNT5RU",
      "include_colab_link": true
    },
    "kernelspec": {
      "name": "python3",
      "display_name": "Python 3"
    },
    "language_info": {
      "name": "python"
    }
  },
  "cells": [
    {
      "cell_type": "markdown",
      "metadata": {
        "id": "view-in-github",
        "colab_type": "text"
      },
      "source": [
        "<a href=\"https://colab.research.google.com/github/KPrathiksha/PythonAssignments/blob/main/Inventory_Management_System_Optimization.ipynb\" target=\"_parent\"><img src=\"https://colab.research.google.com/assets/colab-badge.svg\" alt=\"Open In Colab\"/></a>"
      ]
    },
    {
      "cell_type": "code",
      "execution_count": 11,
      "metadata": {
        "colab": {
          "base_uri": "https://localhost:8080/"
        },
        "id": "OofFzzI9uPD6",
        "outputId": "7113e22f-0e04-44cc-e550-5e7a7d9a8cd2"
      },
      "outputs": [
        {
          "output_type": "stream",
          "name": "stdout",
          "text": [
            "Reorder needed for Item A: Current stock = 15\n",
            "Reorder needed for Item B: Current stock = 13\n"
          ]
        }
      ],
      "source": [
        "inventory = {}\n",
        "\n",
        "def add_item(name, reorder_level):\n",
        "    inventory[name] = {'stock': 0, 'reorder_level': reorder_level}\n",
        "\n",
        "def update_inventory(name, quantity, transaction_type):\n",
        "    if transaction_type == \"purchase\":\n",
        "        inventory[name]['stock'] += quantity\n",
        "    elif transaction_type == \"sale\":\n",
        "        inventory[name]['stock'] -= quantity\n",
        "\n",
        "def check_and_reorder():\n",
        "    for name, details in inventory.items():\n",
        "        if details['stock'] < details['reorder_level']:\n",
        "            print(f\"Reorder needed for {name}: Current stock = {details['stock']}\")\n",
        "\n",
        "# Example usage\n",
        "add_item(\"Item A\", 17)\n",
        "update_inventory(\"Item A\", 20, \"purchase\")\n",
        "update_inventory(\"Item A\", 5, \"sale\")\n",
        "add_item(\"Item B\",20)\n",
        "update_inventory(\"Item B\", 20, \"purchase\")\n",
        "update_inventory(\"Item B\", 7, \"sale\")\n",
        "check_and_reorder()\n"
      ]
    }
  ]
}